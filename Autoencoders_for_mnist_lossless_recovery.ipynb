{
 "cells": [
  {
   "cell_type": "markdown",
   "metadata": {
    "colab": {},
    "colab_type": "code",
    "id": "gKjKf2HmuI62"
   },
   "source": [
    "**Import Packages**"
   ]
  },
  {
   "cell_type": "code",
   "execution_count": 1,
   "metadata": {
    "colab": {},
    "colab_type": "code",
    "id": "VZ057C3MJVxU"
   },
   "outputs": [],
   "source": [
    "import tensorflow as tf\n",
    "from tensorflow.keras.models import Sequential\n",
    "from tensorflow.keras.layers import Dense,Flatten,Reshape\n",
    "from tensorflow.keras.optimizers import SGD\n",
    "from tensorflow.keras.datasets import mnist\n",
    "import numpy as np\n",
    "import matplotlib.pyplot as plt"
   ]
  },
  {
   "cell_type": "markdown",
   "metadata": {},
   "source": [
    "**Prepare Data**"
   ]
  },
  {
   "cell_type": "markdown",
   "metadata": {
    "colab": {},
    "colab_type": "code",
    "id": "XwzjRR_QJsn2"
   },
   "source": [
    "*Load Data*"
   ]
  },
  {
   "cell_type": "code",
   "execution_count": 2,
   "metadata": {
    "colab": {},
    "colab_type": "code",
    "id": "K_ucAQDZJg7a"
   },
   "outputs": [],
   "source": [
    "(X_train,y_train),(X_test,y_test) = mnist.load_data()"
   ]
  },
  {
   "cell_type": "markdown",
   "metadata": {
    "colab_type": "text",
    "id": "CyLjeXshKDGk"
   },
   "source": [
    "*Normalize Data*"
   ]
  },
  {
   "cell_type": "code",
   "execution_count": 3,
   "metadata": {
    "colab": {},
    "colab_type": "code",
    "id": "4711u2t6J79X"
   },
   "outputs": [],
   "source": [
    "X_train = X_train/255\n",
    "X_test = X_test/255"
   ]
  },
  {
   "cell_type": "markdown",
   "metadata": {},
   "source": [
    "**Create Autoencoder**"
   ]
  },
  {
   "cell_type": "markdown",
   "metadata": {
    "colab_type": "text",
    "id": "WRb09w76MoDI"
   },
   "source": [
    "*Encoder Model*"
   ]
  },
  {
   "cell_type": "code",
   "execution_count": 4,
   "metadata": {
    "colab": {},
    "colab_type": "code",
    "id": "lwcJHweQKelT"
   },
   "outputs": [],
   "source": [
    "encoder = Sequential()\n",
    "encoder.add(Flatten(input_shape=[28,28]))\n",
    "encoder.add(Dense(units=400,activation='relu'))\n",
    "encoder.add(Dense(units=200,activation='relu'))\n",
    "encoder.add(Dense(units=100,activation='relu'))\n",
    "encoder.add(Dense(units=50,activation='relu'))\n",
    "encoder.add(Dense(units=25,activation='relu'))"
   ]
  },
  {
   "cell_type": "markdown",
   "metadata": {
    "colab_type": "text",
    "id": "uZroNycUMtsx"
   },
   "source": [
    "*Decoder Model*"
   ]
  },
  {
   "cell_type": "code",
   "execution_count": 5,
   "metadata": {
    "colab": {},
    "colab_type": "code",
    "id": "LAJw7w69MVBG"
   },
   "outputs": [],
   "source": [
    "decoder = Sequential()\n",
    "decoder.add(Dense(units=50,input_shape=[25],activation='relu'))\n",
    "decoder.add(Dense(units=100,activation='relu'))\n",
    "decoder.add(Dense(units=200,activation='relu'))\n",
    "decoder.add(Dense(units=400,activation='relu'))\n",
    "decoder.add(Dense(units=784,activation='sigmoid'))\n",
    "decoder.add(Reshape([28,28]))"
   ]
  },
  {
   "cell_type": "markdown",
   "metadata": {},
   "source": [
    "*Autoencoder Model*"
   ]
  },
  {
   "cell_type": "code",
   "execution_count": 6,
   "metadata": {
    "colab": {},
    "colab_type": "code",
    "id": "lXm-zzLgNPYS"
   },
   "outputs": [],
   "source": [
    "autoencoder = Sequential([encoder,decoder])"
   ]
  },
  {
   "cell_type": "markdown",
   "metadata": {},
   "source": [
    "*Compile Autoencoder*"
   ]
  },
  {
   "cell_type": "code",
   "execution_count": 7,
   "metadata": {
    "colab": {},
    "colab_type": "code",
    "id": "Ci4Iao-XNTz7"
   },
   "outputs": [],
   "source": [
    "#autoencoder.compile(loss='binary_crossentropy',optimizer=SGD(lr=1.5),metrics=['accuracy'])\n",
    "autoencoder.compile(loss='mean_squared_error',optimizer=SGD(lr=1.5),metrics=['mean_squared_error'])"
   ]
  },
  {
   "cell_type": "markdown",
   "metadata": {},
   "source": [
    "*Train Aautoencoder*"
   ]
  },
  {
   "cell_type": "code",
   "execution_count": 8,
   "metadata": {
    "colab": {
     "base_uri": "https://localhost:8080/",
     "height": 221
    },
    "colab_type": "code",
    "id": "spPuzpAyPTh-",
    "outputId": "90e1e984-a7c5-4f69-d6fa-897caf113e0e"
   },
   "outputs": [
    {
     "name": "stdout",
     "output_type": "stream",
     "text": [
      "Epoch 1/100\n",
      "1875/1875 [==============================] - 5s 2ms/step - loss: 0.0692 - mean_squared_error: 0.0692 - val_loss: 0.0561 - val_mean_squared_error: 0.0561\n",
      "Epoch 2/100\n",
      "1875/1875 [==============================] - 4s 2ms/step - loss: 0.0500 - mean_squared_error: 0.0500 - val_loss: 0.0429 - val_mean_squared_error: 0.0429\n",
      "Epoch 3/100\n",
      "1875/1875 [==============================] - 4s 2ms/step - loss: 0.0385 - mean_squared_error: 0.0385 - val_loss: 0.0357 - val_mean_squared_error: 0.0357\n",
      "Epoch 4/100\n",
      "1875/1875 [==============================] - 4s 2ms/step - loss: 0.0321 - mean_squared_error: 0.0321 - val_loss: 0.0291 - val_mean_squared_error: 0.0291\n",
      "Epoch 5/100\n",
      "1875/1875 [==============================] - 4s 2ms/step - loss: 0.0286 - mean_squared_error: 0.0286 - val_loss: 0.0269 - val_mean_squared_error: 0.0269\n",
      "Epoch 6/100\n",
      "1875/1875 [==============================] - 4s 2ms/step - loss: 0.0265 - mean_squared_error: 0.0265 - val_loss: 0.0245 - val_mean_squared_error: 0.0245\n",
      "Epoch 7/100\n",
      "1875/1875 [==============================] - 4s 2ms/step - loss: 0.0248 - mean_squared_error: 0.0248 - val_loss: 0.0239 - val_mean_squared_error: 0.0239\n",
      "Epoch 8/100\n",
      "1875/1875 [==============================] - 4s 2ms/step - loss: 0.0236 - mean_squared_error: 0.0236 - val_loss: 0.0228 - val_mean_squared_error: 0.0228\n",
      "Epoch 9/100\n",
      "1875/1875 [==============================] - 4s 2ms/step - loss: 0.0224 - mean_squared_error: 0.0224 - val_loss: 0.0218 - val_mean_squared_error: 0.0218\n",
      "Epoch 10/100\n",
      "1875/1875 [==============================] - 4s 2ms/step - loss: 0.0213 - mean_squared_error: 0.0213 - val_loss: 0.0201 - val_mean_squared_error: 0.0201\n",
      "Epoch 11/100\n",
      "1875/1875 [==============================] - 4s 2ms/step - loss: 0.0205 - mean_squared_error: 0.0205 - val_loss: 0.0215 - val_mean_squared_error: 0.0215\n",
      "Epoch 12/100\n",
      "1875/1875 [==============================] - 4s 2ms/step - loss: 0.0199 - mean_squared_error: 0.0199 - val_loss: 0.0192 - val_mean_squared_error: 0.0192\n",
      "Epoch 13/100\n",
      "1875/1875 [==============================] - 4s 2ms/step - loss: 0.0194 - mean_squared_error: 0.0194 - val_loss: 0.0186 - val_mean_squared_error: 0.0186\n",
      "Epoch 14/100\n",
      "1875/1875 [==============================] - 4s 2ms/step - loss: 0.0188 - mean_squared_error: 0.0188 - val_loss: 0.0184 - val_mean_squared_error: 0.0184\n",
      "Epoch 15/100\n",
      "1875/1875 [==============================] - 4s 2ms/step - loss: 0.0183 - mean_squared_error: 0.0183 - val_loss: 0.0184 - val_mean_squared_error: 0.0184\n",
      "Epoch 16/100\n",
      "1875/1875 [==============================] - 4s 2ms/step - loss: 0.0178 - mean_squared_error: 0.0178 - val_loss: 0.0169 - val_mean_squared_error: 0.0169\n",
      "Epoch 17/100\n",
      "1875/1875 [==============================] - 4s 2ms/step - loss: 0.0174 - mean_squared_error: 0.0174 - val_loss: 0.0171 - val_mean_squared_error: 0.0171\n",
      "Epoch 18/100\n",
      "1875/1875 [==============================] - 4s 2ms/step - loss: 0.0170 - mean_squared_error: 0.0170 - val_loss: 0.0167 - val_mean_squared_error: 0.0167\n",
      "Epoch 19/100\n",
      "1875/1875 [==============================] - 5s 2ms/step - loss: 0.0166 - mean_squared_error: 0.0166 - val_loss: 0.0159 - val_mean_squared_error: 0.0159\n",
      "Epoch 20/100\n",
      "1875/1875 [==============================] - 4s 2ms/step - loss: 0.0162 - mean_squared_error: 0.0162 - val_loss: 0.0157 - val_mean_squared_error: 0.0157\n",
      "Epoch 21/100\n",
      "1875/1875 [==============================] - 4s 2ms/step - loss: 0.0158 - mean_squared_error: 0.0158 - val_loss: 0.0156 - val_mean_squared_error: 0.0156\n",
      "Epoch 22/100\n",
      "1875/1875 [==============================] - 4s 2ms/step - loss: 0.0155 - mean_squared_error: 0.0155 - val_loss: 0.0154 - val_mean_squared_error: 0.0154\n",
      "Epoch 23/100\n",
      "1875/1875 [==============================] - 4s 2ms/step - loss: 0.0153 - mean_squared_error: 0.0153 - val_loss: 0.0148 - val_mean_squared_error: 0.0148\n",
      "Epoch 24/100\n",
      "1875/1875 [==============================] - 4s 2ms/step - loss: 0.0150 - mean_squared_error: 0.0150 - val_loss: 0.0151 - val_mean_squared_error: 0.0151\n",
      "Epoch 25/100\n",
      "1875/1875 [==============================] - 4s 2ms/step - loss: 0.0148 - mean_squared_error: 0.0148 - val_loss: 0.0151 - val_mean_squared_error: 0.0151\n",
      "Epoch 26/100\n",
      "1875/1875 [==============================] - 4s 2ms/step - loss: 0.0146 - mean_squared_error: 0.0146 - val_loss: 0.0141 - val_mean_squared_error: 0.0141\n",
      "Epoch 27/100\n",
      "1875/1875 [==============================] - 4s 2ms/step - loss: 0.0144 - mean_squared_error: 0.0144 - val_loss: 0.0140 - val_mean_squared_error: 0.0140\n",
      "Epoch 28/100\n",
      "1875/1875 [==============================] - 4s 2ms/step - loss: 0.0141 - mean_squared_error: 0.0141 - val_loss: 0.0137 - val_mean_squared_error: 0.0137\n",
      "Epoch 29/100\n",
      "1875/1875 [==============================] - 4s 2ms/step - loss: 0.0139 - mean_squared_error: 0.0139 - val_loss: 0.0139 - val_mean_squared_error: 0.0139\n",
      "Epoch 30/100\n",
      "1875/1875 [==============================] - 4s 2ms/step - loss: 0.0137 - mean_squared_error: 0.0137 - val_loss: 0.0135 - val_mean_squared_error: 0.0135\n",
      "Epoch 31/100\n",
      "1875/1875 [==============================] - 4s 2ms/step - loss: 0.0135 - mean_squared_error: 0.0135 - val_loss: 0.0139 - val_mean_squared_error: 0.0139\n",
      "Epoch 32/100\n",
      "1875/1875 [==============================] - 4s 2ms/step - loss: 0.0133 - mean_squared_error: 0.0133 - val_loss: 0.0133 - val_mean_squared_error: 0.0133\n",
      "Epoch 33/100\n",
      "1875/1875 [==============================] - 5s 2ms/step - loss: 0.0131 - mean_squared_error: 0.0131 - val_loss: 0.0131 - val_mean_squared_error: 0.0131\n",
      "Epoch 34/100\n",
      "1875/1875 [==============================] - 4s 2ms/step - loss: 0.0129 - mean_squared_error: 0.0129 - val_loss: 0.0129 - val_mean_squared_error: 0.0129\n",
      "Epoch 35/100\n",
      "1875/1875 [==============================] - 4s 2ms/step - loss: 0.0128 - mean_squared_error: 0.0128 - val_loss: 0.0127 - val_mean_squared_error: 0.0127\n",
      "Epoch 36/100\n",
      "1875/1875 [==============================] - 4s 2ms/step - loss: 0.0126 - mean_squared_error: 0.0126 - val_loss: 0.0127 - val_mean_squared_error: 0.0127\n",
      "Epoch 37/100\n",
      "1875/1875 [==============================] - 4s 2ms/step - loss: 0.0125 - mean_squared_error: 0.0125 - val_loss: 0.0130 - val_mean_squared_error: 0.0130\n",
      "Epoch 38/100\n",
      "1875/1875 [==============================] - 4s 2ms/step - loss: 0.0124 - mean_squared_error: 0.0124 - val_loss: 0.0126 - val_mean_squared_error: 0.0126\n",
      "Epoch 39/100\n",
      "1875/1875 [==============================] - 4s 2ms/step - loss: 0.0122 - mean_squared_error: 0.0122 - val_loss: 0.0122 - val_mean_squared_error: 0.0122\n",
      "Epoch 40/100\n",
      "1875/1875 [==============================] - 4s 2ms/step - loss: 0.0121 - mean_squared_error: 0.0121 - val_loss: 0.0120 - val_mean_squared_error: 0.0120\n",
      "Epoch 41/100\n",
      "1875/1875 [==============================] - 4s 2ms/step - loss: 0.0120 - mean_squared_error: 0.0120 - val_loss: 0.0125 - val_mean_squared_error: 0.0125\n",
      "Epoch 42/100\n",
      "1875/1875 [==============================] - 4s 2ms/step - loss: 0.0119 - mean_squared_error: 0.0119 - val_loss: 0.0126 - val_mean_squared_error: 0.0126\n",
      "Epoch 43/100\n",
      "1875/1875 [==============================] - 4s 2ms/step - loss: 0.0118 - mean_squared_error: 0.0118 - val_loss: 0.0121 - val_mean_squared_error: 0.0121\n",
      "Epoch 44/100\n",
      "1875/1875 [==============================] - 4s 2ms/step - loss: 0.0117 - mean_squared_error: 0.0117 - val_loss: 0.0126 - val_mean_squared_error: 0.0126\n",
      "Epoch 45/100\n",
      "1875/1875 [==============================] - 4s 2ms/step - loss: 0.0116 - mean_squared_error: 0.0116 - val_loss: 0.0119 - val_mean_squared_error: 0.0119\n",
      "Epoch 46/100\n",
      "1875/1875 [==============================] - 4s 2ms/step - loss: 0.0115 - mean_squared_error: 0.0115 - val_loss: 0.0117 - val_mean_squared_error: 0.0117\n",
      "Epoch 47/100\n",
      "1875/1875 [==============================] - 4s 2ms/step - loss: 0.0114 - mean_squared_error: 0.0114 - val_loss: 0.0120 - val_mean_squared_error: 0.0120\n",
      "Epoch 48/100\n",
      "1875/1875 [==============================] - 4s 2ms/step - loss: 0.0113 - mean_squared_error: 0.0113 - val_loss: 0.0115 - val_mean_squared_error: 0.0115\n",
      "Epoch 49/100\n",
      "1875/1875 [==============================] - 4s 2ms/step - loss: 0.0112 - mean_squared_error: 0.0112 - val_loss: 0.0117 - val_mean_squared_error: 0.0117\n",
      "Epoch 50/100\n",
      "1875/1875 [==============================] - 4s 2ms/step - loss: 0.0111 - mean_squared_error: 0.0111 - val_loss: 0.0115 - val_mean_squared_error: 0.0115\n",
      "Epoch 51/100\n",
      "1875/1875 [==============================] - 4s 2ms/step - loss: 0.0111 - mean_squared_error: 0.0111 - val_loss: 0.0112 - val_mean_squared_error: 0.0112\n",
      "Epoch 52/100\n",
      "1875/1875 [==============================] - 4s 2ms/step - loss: 0.0110 - mean_squared_error: 0.0110 - val_loss: 0.0115 - val_mean_squared_error: 0.0115\n",
      "Epoch 53/100\n",
      "1875/1875 [==============================] - 4s 2ms/step - loss: 0.0109 - mean_squared_error: 0.0109 - val_loss: 0.0110 - val_mean_squared_error: 0.0110\n",
      "Epoch 54/100\n",
      "1875/1875 [==============================] - 4s 2ms/step - loss: 0.0108 - mean_squared_error: 0.0108 - val_loss: 0.0112 - val_mean_squared_error: 0.0112\n",
      "Epoch 55/100\n",
      "1875/1875 [==============================] - 4s 2ms/step - loss: 0.0108 - mean_squared_error: 0.0108 - val_loss: 0.0111 - val_mean_squared_error: 0.0111\n",
      "Epoch 56/100\n",
      "1875/1875 [==============================] - 4s 2ms/step - loss: 0.0107 - mean_squared_error: 0.0107 - val_loss: 0.0113 - val_mean_squared_error: 0.0113\n",
      "Epoch 57/100\n",
      "1875/1875 [==============================] - 4s 2ms/step - loss: 0.0106 - mean_squared_error: 0.0106 - val_loss: 0.0113 - val_mean_squared_error: 0.0113\n",
      "Epoch 58/100\n",
      "1875/1875 [==============================] - 4s 2ms/step - loss: 0.0105 - mean_squared_error: 0.0105 - val_loss: 0.0109 - val_mean_squared_error: 0.0109\n",
      "Epoch 59/100\n",
      "1875/1875 [==============================] - 4s 2ms/step - loss: 0.0105 - mean_squared_error: 0.0105 - val_loss: 0.0110 - val_mean_squared_error: 0.0110\n",
      "Epoch 60/100\n",
      "1875/1875 [==============================] - 4s 2ms/step - loss: 0.0104 - mean_squared_error: 0.0104 - val_loss: 0.0111 - val_mean_squared_error: 0.0111\n",
      "Epoch 61/100\n",
      "1875/1875 [==============================] - 4s 2ms/step - loss: 0.0103 - mean_squared_error: 0.0103 - val_loss: 0.0107 - val_mean_squared_error: 0.0107\n",
      "Epoch 62/100\n",
      "1875/1875 [==============================] - 4s 2ms/step - loss: 0.0103 - mean_squared_error: 0.0103 - val_loss: 0.0108 - val_mean_squared_error: 0.0108\n",
      "Epoch 63/100\n",
      "1875/1875 [==============================] - 4s 2ms/step - loss: 0.0102 - mean_squared_error: 0.0102 - val_loss: 0.0108 - val_mean_squared_error: 0.0108\n",
      "Epoch 64/100\n",
      "1875/1875 [==============================] - 4s 2ms/step - loss: 0.0101 - mean_squared_error: 0.0101 - val_loss: 0.0108 - val_mean_squared_error: 0.0108\n",
      "Epoch 65/100\n",
      "1875/1875 [==============================] - 4s 2ms/step - loss: 0.0101 - mean_squared_error: 0.0101 - val_loss: 0.0108 - val_mean_squared_error: 0.0108\n",
      "Epoch 66/100\n",
      "1875/1875 [==============================] - 4s 2ms/step - loss: 0.0100 - mean_squared_error: 0.0100 - val_loss: 0.0103 - val_mean_squared_error: 0.0103\n",
      "Epoch 67/100\n",
      "1875/1875 [==============================] - 4s 2ms/step - loss: 0.0100 - mean_squared_error: 0.0100 - val_loss: 0.0110 - val_mean_squared_error: 0.0110\n",
      "Epoch 68/100\n",
      "1875/1875 [==============================] - 4s 2ms/step - loss: 0.0099 - mean_squared_error: 0.0099 - val_loss: 0.0109 - val_mean_squared_error: 0.0109\n",
      "Epoch 69/100\n",
      "1875/1875 [==============================] - 4s 2ms/step - loss: 0.0099 - mean_squared_error: 0.0099 - val_loss: 0.0101 - val_mean_squared_error: 0.0101\n",
      "Epoch 70/100\n",
      "1875/1875 [==============================] - 4s 2ms/step - loss: 0.0098 - mean_squared_error: 0.0098 - val_loss: 0.0105 - val_mean_squared_error: 0.0105\n",
      "Epoch 71/100\n",
      "1875/1875 [==============================] - 4s 2ms/step - loss: 0.0098 - mean_squared_error: 0.0098 - val_loss: 0.0109 - val_mean_squared_error: 0.0109\n",
      "Epoch 72/100\n",
      "1875/1875 [==============================] - 4s 2ms/step - loss: 0.0097 - mean_squared_error: 0.0097 - val_loss: 0.0101 - val_mean_squared_error: 0.0101\n",
      "Epoch 73/100\n",
      "1875/1875 [==============================] - 4s 2ms/step - loss: 0.0097 - mean_squared_error: 0.0097 - val_loss: 0.0101 - val_mean_squared_error: 0.0101\n",
      "Epoch 74/100\n",
      "1875/1875 [==============================] - 4s 2ms/step - loss: 0.0096 - mean_squared_error: 0.0096 - val_loss: 0.0103 - val_mean_squared_error: 0.0103\n",
      "Epoch 75/100\n",
      "1875/1875 [==============================] - 4s 2ms/step - loss: 0.0096 - mean_squared_error: 0.0096 - val_loss: 0.0101 - val_mean_squared_error: 0.0101\n",
      "Epoch 76/100\n",
      "1875/1875 [==============================] - 4s 2ms/step - loss: 0.0095 - mean_squared_error: 0.0095 - val_loss: 0.0099 - val_mean_squared_error: 0.0099\n",
      "Epoch 77/100\n",
      "1875/1875 [==============================] - 4s 2ms/step - loss: 0.0095 - mean_squared_error: 0.0095 - val_loss: 0.0103 - val_mean_squared_error: 0.0103\n",
      "Epoch 78/100\n",
      "1875/1875 [==============================] - 4s 2ms/step - loss: 0.0094 - mean_squared_error: 0.0094 - val_loss: 0.0103 - val_mean_squared_error: 0.0103\n",
      "Epoch 79/100\n",
      "1875/1875 [==============================] - 4s 2ms/step - loss: 0.0094 - mean_squared_error: 0.0094 - val_loss: 0.0100 - val_mean_squared_error: 0.0100\n",
      "Epoch 80/100\n",
      "1875/1875 [==============================] - 4s 2ms/step - loss: 0.0094 - mean_squared_error: 0.0094 - val_loss: 0.0103 - val_mean_squared_error: 0.0103\n",
      "Epoch 81/100\n",
      "1875/1875 [==============================] - 4s 2ms/step - loss: 0.0093 - mean_squared_error: 0.0093 - val_loss: 0.0100 - val_mean_squared_error: 0.0100\n",
      "Epoch 82/100\n",
      "1875/1875 [==============================] - 4s 2ms/step - loss: 0.0093 - mean_squared_error: 0.0093 - val_loss: 0.0099 - val_mean_squared_error: 0.0099\n",
      "Epoch 83/100\n",
      "1875/1875 [==============================] - 4s 2ms/step - loss: 0.0092 - mean_squared_error: 0.0092 - val_loss: 0.0100 - val_mean_squared_error: 0.0100\n",
      "Epoch 84/100\n",
      "1875/1875 [==============================] - 4s 2ms/step - loss: 0.0092 - mean_squared_error: 0.0092 - val_loss: 0.0103 - val_mean_squared_error: 0.0103\n",
      "Epoch 85/100\n",
      "1875/1875 [==============================] - 4s 2ms/step - loss: 0.0091 - mean_squared_error: 0.0091 - val_loss: 0.0099 - val_mean_squared_error: 0.0099\n",
      "Epoch 86/100\n",
      "1875/1875 [==============================] - 4s 2ms/step - loss: 0.0091 - mean_squared_error: 0.0091 - val_loss: 0.0100 - val_mean_squared_error: 0.0100\n",
      "Epoch 87/100\n",
      "1875/1875 [==============================] - 4s 2ms/step - loss: 0.0091 - mean_squared_error: 0.0091 - val_loss: 0.0101 - val_mean_squared_error: 0.0101\n",
      "Epoch 88/100\n",
      "1875/1875 [==============================] - 4s 2ms/step - loss: 0.0091 - mean_squared_error: 0.0091 - val_loss: 0.0101 - val_mean_squared_error: 0.0101\n",
      "Epoch 89/100\n",
      "1875/1875 [==============================] - 4s 2ms/step - loss: 0.0090 - mean_squared_error: 0.0090 - val_loss: 0.0097 - val_mean_squared_error: 0.0097\n",
      "Epoch 90/100\n",
      "1875/1875 [==============================] - 4s 2ms/step - loss: 0.0090 - mean_squared_error: 0.0090 - val_loss: 0.0095 - val_mean_squared_error: 0.0095\n",
      "Epoch 91/100\n",
      "1875/1875 [==============================] - 4s 2ms/step - loss: 0.0089 - mean_squared_error: 0.0089 - val_loss: 0.0095 - val_mean_squared_error: 0.0095\n",
      "Epoch 92/100\n",
      "1875/1875 [==============================] - 4s 2ms/step - loss: 0.0089 - mean_squared_error: 0.0089 - val_loss: 0.0099 - val_mean_squared_error: 0.0099\n",
      "Epoch 93/100\n",
      "1875/1875 [==============================] - 4s 2ms/step - loss: 0.0089 - mean_squared_error: 0.0089 - val_loss: 0.0101 - val_mean_squared_error: 0.0101\n",
      "Epoch 94/100\n",
      "1875/1875 [==============================] - 4s 2ms/step - loss: 0.0089 - mean_squared_error: 0.0089 - val_loss: 0.0096 - val_mean_squared_error: 0.0096\n",
      "Epoch 95/100\n",
      "1875/1875 [==============================] - 4s 2ms/step - loss: 0.0088 - mean_squared_error: 0.0088 - val_loss: 0.0098 - val_mean_squared_error: 0.0098\n",
      "Epoch 96/100\n",
      "1875/1875 [==============================] - 4s 2ms/step - loss: 0.0088 - mean_squared_error: 0.0088 - val_loss: 0.0094 - val_mean_squared_error: 0.0094\n",
      "Epoch 97/100\n",
      "1875/1875 [==============================] - 4s 2ms/step - loss: 0.0088 - mean_squared_error: 0.0088 - val_loss: 0.0096 - val_mean_squared_error: 0.0096\n",
      "Epoch 98/100\n",
      "1875/1875 [==============================] - 4s 2ms/step - loss: 0.0087 - mean_squared_error: 0.0087 - val_loss: 0.0099 - val_mean_squared_error: 0.0099\n",
      "Epoch 99/100\n",
      "1875/1875 [==============================] - 4s 2ms/step - loss: 0.0087 - mean_squared_error: 0.0087 - val_loss: 0.0097 - val_mean_squared_error: 0.0097\n",
      "Epoch 100/100\n",
      "1875/1875 [==============================] - 4s 2ms/step - loss: 0.0087 - mean_squared_error: 0.0087 - val_loss: 0.0091 - val_mean_squared_error: 0.0091\n"
     ]
    }
   ],
   "source": [
    "#autoencoder.fit(X_train,X_train,epochs=100,validation_data=(X_test,X_test))\n",
    "X_train_ec = X_train*1\n",
    "X_test_ec = X_test*1\n",
    "for i in range(0,1):\n",
    "    autoencoder.fit(X_train,X_train_ec,epochs=100,validation_data=(X_test,X_test_ec))\n",
    "    X_train_ec = X_train + (X_train - autoencoder.predict(X_train))\n",
    "    X_test_ec = X_test + (X_test - autoencoder.predict(X_test))"
   ]
  },
  {
   "cell_type": "markdown",
   "metadata": {},
   "source": [
    "**Lossless Recovery**"
   ]
  },
  {
   "cell_type": "markdown",
   "metadata": {},
   "source": [
    "*Intialization*"
   ]
  },
  {
   "cell_type": "code",
   "execution_count": 9,
   "metadata": {},
   "outputs": [],
   "source": [
    "x0 = X_test[:1]*1\n",
    "y0 = autoencoder.predict(x0[:1])\n",
    "xu0 = tf.cast(x0*255, tf.uint8)\n",
    "yu0 = tf.cast(y0*255, tf.uint8)"
   ]
  },
  {
   "cell_type": "markdown",
   "metadata": {},
   "source": [
    "*Compensation-Mask-1*"
   ]
  },
  {
   "cell_type": "code",
   "execution_count": 10,
   "metadata": {},
   "outputs": [
    {
     "name": "stdout",
     "output_type": "stream",
     "text": [
      "tf.Tensor(34.87943, shape=(), dtype=float32)\n",
      "tf.Tensor(25.470959, shape=(), dtype=float32)\n",
      "tf.Tensor([0.9997189], shape=(1,), dtype=float32)\n",
      "tf.Tensor([0.98077726], shape=(1,), dtype=float32)\n"
     ]
    }
   ],
   "source": [
    "x = y0*1\n",
    "y = autoencoder.predict(x[:1])\n",
    "ex0 = x0-x\n",
    "exu0 = tf.cast(ex0*255, tf.int16)\n",
    "ey0 = y0-y\n",
    "eyu0 = tf.cast(ey0*255, tf.int16)\n",
    "eyu = eyu0*1\n",
    "\n",
    "for k in range(1,10+1):\n",
    "    for i in range(0,28,1):\n",
    "        for j in range(0,28,1):\n",
    "            #compensation-mask-1\n",
    "            if (eyu[0][i][j]!=0):\n",
    "                x[0][i][j] = x0[0][i][j] + (y0[0][i][j]-y[0][i][j])*0.1\n",
    "    y = autoencoder.predict(x[:1])\n",
    "    ex = x0-x\n",
    "    ey = y0-y\n",
    "    exu = tf.cast(ex*255, tf.int16)            \n",
    "    eyu = tf.cast(ey*255, tf.int16)            \n",
    "\n",
    "for i in range(0,28,1):\n",
    "    for j in range(0,28,1):\n",
    "        sum = x[0][i][j]\n",
    "        if (sum<0):\n",
    "            x[0][i][j] = 0\n",
    "        elif (sum>1):\n",
    "            x[0][i][j] = 1\n",
    "\n",
    "xu = tf.cast(x*255, tf.uint8)       \n",
    "yu = tf.cast(y*255, tf.uint8) \n",
    "print(tf.image.psnr(xu,xu0,255))\n",
    "print(tf.image.psnr(yu0,xu0,255))\n",
    "print(tf.image.ssim(tf.expand_dims(xu, axis=3),tf.expand_dims(xu0, axis=3),255,28))\n",
    "print(tf.image.ssim(tf.expand_dims(yu0, axis=3),tf.expand_dims(xu0, axis=3),255,28))\n"
   ]
  },
  {
   "cell_type": "markdown",
   "metadata": {},
   "source": [
    "*Compensation-Mask-2*"
   ]
  },
  {
   "cell_type": "code",
   "execution_count": 11,
   "metadata": {},
   "outputs": [
    {
     "name": "stdout",
     "output_type": "stream",
     "text": [
      "tf.Tensor(65.934525, shape=(), dtype=float32)\n",
      "tf.Tensor(25.470959, shape=(), dtype=float32)\n",
      "tf.Tensor([0.9999998], shape=(1,), dtype=float32)\n",
      "tf.Tensor([0.98077726], shape=(1,), dtype=float32)\n"
     ]
    }
   ],
   "source": [
    "x = x*1\n",
    "y = autoencoder.predict(x[:1])\n",
    "ex0 = x0-x\n",
    "exu0 = tf.cast(ex0*255, tf.int16)\n",
    "ey0 = y0-y\n",
    "eyu0 = tf.cast(ey0*255, tf.int16)\n",
    "eyu = eyu0*1\n",
    "for k in range(1,10+1):\n",
    "    for i in range(0,28,1):\n",
    "        for j in range(0,28,1):\n",
    "            #compensation-mask-2\n",
    "            if (eyu[0][i][j]==0):\n",
    "                x[0][i][j] = x0[0][i][j] + (y0[0][i][j]-y[0][i][j])*0.1\n",
    "    y = autoencoder.predict(x[:1])\n",
    "    ex = x0-x\n",
    "    ey = y0-y\n",
    "    exu = tf.cast(ex*255, tf.int16)            \n",
    "    eyu = tf.cast(ey*255, tf.int16)            \n",
    "\n",
    "for i in range(0,28,1):\n",
    "    for j in range(0,28,1):\n",
    "        sum = x[0][i][j]\n",
    "        if (sum<0):\n",
    "            x[0][i][j] = 0\n",
    "        elif (sum>1):\n",
    "            x[0][i][j] = 1\n",
    "\n",
    "xu = tf.cast(x*255, tf.uint8)       \n",
    "yu = tf.cast(y*255, tf.uint8) \n",
    "print(tf.image.psnr(xu,xu0,255))\n",
    "print(tf.image.psnr(yu0,xu0,255))\n",
    "print(tf.image.ssim(tf.expand_dims(xu, axis=3),tf.expand_dims(xu0, axis=3),255,28))\n",
    "print(tf.image.ssim(tf.expand_dims(yu0, axis=3),tf.expand_dims(xu0, axis=3),255,28))\n"
   ]
  },
  {
   "cell_type": "markdown",
   "metadata": {},
   "source": [
    "*Compensation-Nonmask*"
   ]
  },
  {
   "cell_type": "code",
   "execution_count": 12,
   "metadata": {},
   "outputs": [
    {
     "name": "stdout",
     "output_type": "stream",
     "text": [
      "tf.Tensor(inf, shape=(), dtype=float32)\n",
      "tf.Tensor(25.470959, shape=(), dtype=float32)\n",
      "tf.Tensor([1.], shape=(1,), dtype=float32)\n",
      "tf.Tensor([0.98077726], shape=(1,), dtype=float32)\n"
     ]
    }
   ],
   "source": [
    "x = x*1\n",
    "y = autoencoder.predict(x[:1])\n",
    "ex0 = x0-x\n",
    "exu0 = tf.cast(ex0*255, tf.int16)\n",
    "ey0 = y0-y\n",
    "eyu0 = tf.cast(ey0*255, tf.int16)\n",
    "eyu = eyu0*1\n",
    "for k in range(1,10+1):\n",
    "    for i in range(0,28,1):\n",
    "        for j in range(0,28,1):\n",
    "            #compensation-nonmask\n",
    "            x[0][i][j] = x0[0][i][j] + (y0[0][i][j]-y[0][i][j])*0.00001\n",
    "    y = autoencoder.predict(x[:1])\n",
    "    ex = x0-x\n",
    "    ey = y0-y\n",
    "    exu = tf.cast(ex*255, tf.int16)            \n",
    "    eyu = tf.cast(ey*255, tf.int16)            \n",
    "\n",
    "for i in range(0,28,1):\n",
    "    for j in range(0,28,1):\n",
    "        sum = x[0][i][j]\n",
    "        if (sum<0):\n",
    "            x[0][i][j] = 0\n",
    "        elif (sum>1):\n",
    "            x[0][i][j] = 1\n",
    "\n",
    "xu = tf.cast(x*255, tf.uint8)       \n",
    "yu = tf.cast(y*255, tf.uint8) \n",
    "print(tf.image.psnr(xu,xu0,255))\n",
    "print(tf.image.psnr(yu0,xu0,255))\n",
    "print(tf.image.ssim(tf.expand_dims(xu, axis=3),tf.expand_dims(xu0, axis=3),255,28))\n",
    "print(tf.image.ssim(tf.expand_dims(yu0, axis=3),tf.expand_dims(xu0, axis=3),255,28))\n"
   ]
  },
  {
   "cell_type": "markdown",
   "metadata": {},
   "source": [
    "*Output*"
   ]
  },
  {
   "cell_type": "code",
   "execution_count": 13,
   "metadata": {},
   "outputs": [
    {
     "data": {
      "text/plain": [
       "<matplotlib.image.AxesImage at 0x7fed469eb7f0>"
      ]
     },
     "execution_count": 13,
     "metadata": {},
     "output_type": "execute_result"
    },
    {
     "data": {
      "image/png": "[encoded data removed]",
      "text/plain": [
       "<Figure size 432x288 with 1 Axes>"
      ]
     },
     "metadata": {
      "needs_background": "light"
     },
     "output_type": "display_data"
    }
   ],
   "source": [
    "plt.imshow(x0[0], cmap='gray')"
   ]
  },
  {
   "cell_type": "code",
   "execution_count": 14,
   "metadata": {},
   "outputs": [
    {
     "data": {
      "text/plain": [
       "<matplotlib.image.AxesImage at 0x7fed2c605908>"
      ]
     },
     "execution_count": 14,
     "metadata": {},
     "output_type": "execute_result"
    },
    {
     "data": {
      "image/png": "[encoded data removed]",
      "text/plain": [
       "<Figure size 432x288 with 1 Axes>"
      ]
     },
     "metadata": {
      "needs_background": "light"
     },
     "output_type": "display_data"
    }
   ],
   "source": [
    "plt.imshow(x[0], cmap='gray')"
   ]
  },
  {
   "cell_type": "code",
   "execution_count": null,
   "metadata": {},
   "outputs": [],
   "source": []
  }
 ],
 "metadata": {
  "accelerator": "GPU",
  "colab": {
   "collapsed_sections": [],
   "name": "Autoencoders_for_mnist .ipynb",
   "provenance": []
  },
  "kernelspec": {
   "display_name": "Python 3",
   "language": "python",
   "name": "python3"
  },
  "language_info": {
   "codemirror_mode": {
    "name": "ipython",
    "version": 3
   },
   "file_extension": ".py",
   "mimetype": "text/x-python",
   "name": "python",
   "nbconvert_exporter": "python",
   "pygments_lexer": "ipython3",
   "version": "3.6.9"
  }
 },
 "nbformat": 4,
 "nbformat_minor": 4
}
